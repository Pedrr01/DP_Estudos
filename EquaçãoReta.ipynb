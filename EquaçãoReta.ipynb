{
  "nbformat": 4,
  "nbformat_minor": 0,
  "metadata": {
    "colab": {
      "provenance": [],
      "authorship_tag": "ABX9TyOr+bPY8EDsJiLQJKlkvwG+",
      "include_colab_link": true
    },
    "kernelspec": {
      "name": "python3",
      "display_name": "Python 3"
    },
    "language_info": {
      "name": "python"
    }
  },
  "cells": [
    {
      "cell_type": "markdown",
      "metadata": {
        "id": "view-in-github",
        "colab_type": "text"
      },
      "source": [
        "<a href=\"https://colab.research.google.com/github/Pedrr01/DP_Estudos/blob/main/Equa%C3%A7%C3%A3oReta.ipynb\" target=\"_parent\"><img src=\"https://colab.research.google.com/assets/colab-badge.svg\" alt=\"Open In Colab\"/></a>"
      ]
    },
    {
      "cell_type": "markdown",
      "source": [
        "A equação da reta é dada na forma ax + by + c = 0\n"
      ],
      "metadata": {
        "id": "BVASXBF9fqBe"
      }
    },
    {
      "cell_type": "code",
      "source": [
        "import numpy as np\n",
        "import matplotlib.pyplot as plt\n",
        "\n",
        "# a, b, c são minhas variáveis\n",
        "a = -1\n",
        "b = 4\n",
        "c = 0.4\n",
        "# C Termo independente(viés) vai deslocar a reta sem modificar as características angulares.\n",
        "# As outras variáveis consigo mudar a inclinação.\n",
        "\n",
        "def equareta(a, b, c):\n",
        "    # Valores de X vão ser fixados em um intervalo\n",
        "    x = np.linspace(-2, 4, 50)\n",
        "\n",
        "    # O valor de Y e dado pelo valor encontrado na equação onde irei isolar o Y\n",
        "    y = (-a*x - c)/b\n",
        "\n",
        "    plt.axvline(0, 1, -1, color=\"black\", linewidth=1)\n",
        "    plt.axhline(0, -2, 4, color=\"black\", linewidth=1)\n",
        "    plt.plot(x,y)\n",
        "    plt.grid(True)\n",
        "\n"
      ],
      "metadata": {
        "id": "QkVXsQvGgQbf"
      },
      "execution_count": null,
      "outputs": []
    },
    {
      "cell_type": "markdown",
      "source": [
        "Utilizando a equação da reta para difentes pontos:"
      ],
      "metadata": {
        "id": "_XlKbLZVkeJH"
      }
    },
    {
      "cell_type": "markdown",
      "source": [
        "ZERO -> qualquer ponto sobre a reta ao solucionar a equação o valor deve ser 0\n"
      ],
      "metadata": {
        "id": "6FNFevrSsj_-"
      }
    },
    {
      "cell_type": "markdown",
      "source": [
        "POSITIVO -> se o valor for positivo esse ponto está acima da reta.\n"
      ],
      "metadata": {
        "id": "uHGzwTfas-wU"
      }
    },
    {
      "cell_type": "markdown",
      "source": [
        "NEGATIVO -> se o valor for negativo esse ponto está abaixo da reta."
      ],
      "metadata": {
        "id": "g_a0_6bHteJG"
      }
    },
    {
      "cell_type": "code",
      "source": [
        "p1 = (2, 0.4)\n",
        "reta1 = a*p1[0] + b*p1[1] + c\n",
        "\n",
        "p2 = (1, 0.8)\n",
        "reta2 = a*p2[0] + b*p2[1] + c\n",
        "\n",
        "p3 = (3, -0.2)\n",
        "reta3 = a*p3[0] + b*p3[1] + c\n",
        "\n",
        "equareta(a, b, c)\n",
        "print(\"Solução da reta para o P1 -> %.2f\" % reta1)\n",
        "print(\"Solução da reta para o P2 -> %.2f\" % reta2)\n",
        "print(\"Solução da reta para o P3 -> %.2f\" % reta3)\n",
        "plt.plot(p1[0], p1[1], color=\"blue\", marker=\"o\")\n",
        "plt.plot(p2[0], p2[1], color=\"green\", marker=\"o\")\n",
        "plt.plot(p3[0], p3[1], color=\"red\", marker=\"o\")"
      ],
      "metadata": {
        "colab": {
          "base_uri": "https://localhost:8080/",
          "height": 499
        },
        "id": "bQxdPkwIkhwm",
        "outputId": "05bb4ac1-a3fd-4743-8071-140a20c91036"
      },
      "execution_count": null,
      "outputs": [
        {
          "output_type": "stream",
          "name": "stdout",
          "text": [
            "Solução da reta para o P1 -> 0.00\n",
            "Solução da reta para o P2 -> 2.60\n",
            "Solução da reta para o P3 -> -3.40\n"
          ]
        },
        {
          "output_type": "execute_result",
          "data": {
            "text/plain": [
              "[<matplotlib.lines.Line2D at 0x7baf61927be0>]"
            ]
          },
          "metadata": {},
          "execution_count": 37
        },
        {
          "output_type": "display_data",
          "data": {
            "text/plain": [
              "<Figure size 640x480 with 1 Axes>"
            ],
            "image/png": "[encoded data removed]"
          },
          "metadata": {}
        }
      ]
    },
    {
      "cell_type": "markdown",
      "source": [
        "Em um modelo linear a equação ax + by + c\n"
      ],
      "metadata": {
        "id": "jdMBzEeFuTrW"
      }
    },
    {
      "cell_type": "markdown",
      "source": [
        "É representada por y = WiXi + WiXi + b (onde W é o peso e X é a dimensão da camada)\n"
      ],
      "metadata": {
        "id": "DrU1q8fOwy9W"
      }
    },
    {
      "cell_type": "markdown",
      "source": [
        "Que basicamente é representada por y = somatorio de W e X das dimensões"
      ],
      "metadata": {
        "id": "FiYFxA8ww1Ku"
      }
    }
  ]
}