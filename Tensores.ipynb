{
  "nbformat": 4,
  "nbformat_minor": 0,
  "metadata": {
    "colab": {
      "provenance": [],
      "authorship_tag": "ABX9TyOmQlkCdF0ca+JURTAvWMFk",
      "include_colab_link": true
    },
    "kernelspec": {
      "name": "python3",
      "display_name": "Python 3"
    },
    "language_info": {
      "name": "python"
    }
  },
  "cells": [
    {
      "cell_type": "markdown",
      "metadata": {
        "id": "view-in-github",
        "colab_type": "text"
      },
      "source": [
        "<a href=\"https://colab.research.google.com/github/Pedrr01/DP_Estudos/blob/main/Tensores.ipynb\" target=\"_parent\"><img src=\"https://colab.research.google.com/assets/colab-badge.svg\" alt=\"Open In Colab\"/></a>"
      ]
    },
    {
      "cell_type": "markdown",
      "source": [
        "Tensores (arrays multidimensionais):"
      ],
      "metadata": {
        "id": "SNDKJeOE3ZgW"
      }
    },
    {
      "cell_type": "code",
      "source": [
        "import torch\n",
        "lista = [ [1,2,3],\n",
        "          [4,5,6] ]\n",
        "\n",
        "tns = torch.Tensor(lista) #Converter a lista para tensor\n",
        "print(tns.dtype)  #Verificar o tipo de tensor\n",
        "print(tns)\n",
        "#Existem outros tipos para representar os dados em tesnore que são:\n",
        "#torch.DoubleTensor( ),  torch.LongTensor( )..."
      ],
      "metadata": {
        "colab": {
          "base_uri": "https://localhost:8080/"
        },
        "id": "DjfLUzyJ3pg-",
        "outputId": "c8d4255d-922a-4860-900f-4249e9efedc2"
      },
      "execution_count": null,
      "outputs": [
        {
          "output_type": "stream",
          "name": "stdout",
          "text": [
            "torch.float32\n",
            "tensor([[1., 2., 3.],\n",
            "        [4., 5., 6.]])\n"
          ]
        }
      ]
    },
    {
      "cell_type": "markdown",
      "source": [
        "Converter dados numpy para tensores:\n"
      ],
      "metadata": {
        "id": "XxDnTMDB4T1F"
      }
    },
    {
      "cell_type": "code",
      "source": [
        "import numpy as np\n",
        "\n",
        "arr = np.random.rand(3,4)  #Criando um array numpy aleatório (linhas, colunas)\n",
        "\n",
        "tns = torch.from_numpy(arr)\n",
        "print(tns.dtype)"
      ],
      "metadata": {
        "colab": {
          "base_uri": "https://localhost:8080/"
        },
        "id": "K07HJjH44bvb",
        "outputId": "ac7638de-14df-4947-8c2f-ab964ea43a20"
      },
      "execution_count": null,
      "outputs": [
        {
          "output_type": "stream",
          "name": "stdout",
          "text": [
            "torch.float64\n"
          ]
        }
      ]
    },
    {
      "cell_type": "markdown",
      "source": [
        "Converte de tensores para array numpy"
      ],
      "metadata": {
        "id": "hKmRrZfw5eL-"
      }
    },
    {
      "cell_type": "code",
      "source": [
        "tnsAl = torch.ones(2,4)\n",
        "arr = tnsAl.data.numpy()\n",
        "print(arr)"
      ],
      "metadata": {
        "colab": {
          "base_uri": "https://localhost:8080/"
        },
        "id": "x6L_y3I45jQr",
        "outputId": "705e2842-6eef-4ecd-f0bb-801e1b03877c"
      },
      "execution_count": null,
      "outputs": [
        {
          "output_type": "stream",
          "name": "stdout",
          "text": [
            "[[1. 1. 1. 1.]\n",
            " [1. 1. 1. 1.]]\n"
          ]
        }
      ]
    },
    {
      "cell_type": "markdown",
      "source": [
        "Tensore inicializados"
      ],
      "metadata": {
        "id": "Xony94bh50lN"
      }
    },
    {
      "cell_type": "code",
      "source": [
        "tns1 = torch.ones(2, 3)   #-> valores apenas com 1\n",
        "tns0 = torch.zeros(3, 5)  #-> valores apenas com 0\n",
        "tnsr = torch.randn(3, 3)  #-> valores aleatórios\n",
        "#(Linhas, Colunas)\n",
        "\n",
        "print(tns1)\n",
        "print(tns0)\n",
        "print(tnsr)"
      ],
      "metadata": {
        "colab": {
          "base_uri": "https://localhost:8080/"
        },
        "id": "4hd5jU2153--",
        "outputId": "2dbc42ea-4ee6-4997-a684-92513a3c33e5"
      },
      "execution_count": null,
      "outputs": [
        {
          "output_type": "stream",
          "name": "stdout",
          "text": [
            "tensor([[1., 1., 1.],\n",
            "        [1., 1., 1.]])\n",
            "tensor([[0., 0., 0., 0., 0.],\n",
            "        [0., 0., 0., 0., 0.],\n",
            "        [0., 0., 0., 0., 0.]])\n",
            "tensor([[-1.0352,  0.9057, -0.9949],\n",
            "        [ 0.9718,  0.0259,  0.2560],\n",
            "        [-0.8070, -0.0041, -0.5940]])\n"
          ]
        }
      ]
    },
    {
      "cell_type": "markdown",
      "source": [
        "Indexação:"
      ],
      "metadata": {
        "id": "GjkGM0Tc6fZl"
      }
    },
    {
      "cell_type": "code",
      "source": [
        "tensor = torch.randn(4,5)\n",
        "\n",
        "print(tensor)\n",
        "print(tensor[0:2, 2]) #Pegando os valores da liha 0 e 1 e coluna 2\n",
        "print(tensor[:, 1]) #Pegando todos os valores da coluna 1"
      ],
      "metadata": {
        "colab": {
          "base_uri": "https://localhost:8080/"
        },
        "id": "oXShGSZZ6jHF",
        "outputId": "74769f04-6809-4e48-b643-b84fff24915e"
      },
      "execution_count": null,
      "outputs": [
        {
          "output_type": "stream",
          "name": "stdout",
          "text": [
            "tensor([[ 0.7188, -1.1742,  1.0645,  0.6977, -1.2077],\n",
            "        [-0.5597, -1.1406,  1.9858, -0.1315,  0.1247],\n",
            "        [-1.1393, -0.0480,  0.7449, -0.2136,  1.2137],\n",
            "        [ 1.1033, -0.3776, -0.6215, -0.4210, -0.0238]])\n",
            "tensor([1.0645, 1.9858])\n",
            "tensor([-1.1742, -1.1406, -0.0480, -0.3776])\n"
          ]
        }
      ]
    },
    {
      "cell_type": "markdown",
      "source": [
        "Operações com tensores:"
      ],
      "metadata": {
        "id": "sTpxbkmo799F"
      }
    },
    {
      "cell_type": "code",
      "source": [],
      "metadata": {
        "id": "wNhrNFLR8AkV"
      },
      "execution_count": null,
      "outputs": []
    }
  ]
}